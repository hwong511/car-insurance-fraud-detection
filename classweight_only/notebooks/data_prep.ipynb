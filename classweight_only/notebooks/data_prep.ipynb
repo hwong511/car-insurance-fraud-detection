{
 "cells": [
  {
   "cell_type": "markdown",
   "id": "f892172d",
   "metadata": {},
   "source": [
    "# 1. Examining imbalance in outcome variable in the training set"
   ]
  },
  {
   "cell_type": "code",
   "execution_count": 1,
   "id": "66e28e2d",
   "metadata": {},
   "outputs": [],
   "source": [
    "import os\n",
    "import shutil\n",
    "import random\n",
    "from pathlib import Path\n",
    "from sklearn.model_selection import train_test_split\n",
    "import numpy as np"
   ]
  },
  {
   "cell_type": "code",
   "execution_count": 3,
   "id": "a64028e7",
   "metadata": {},
   "outputs": [],
   "source": [
    "data_dir = Path(\"data/raw\")\n",
    "fraud_dir = data_dir / \"Fraud\"\n",
    "non_fraud_dir = data_dir / \"Non-Fraud\""
   ]
  },
  {
   "cell_type": "code",
   "execution_count": 5,
   "id": "214a4ee2",
   "metadata": {},
   "outputs": [],
   "source": [
    "fraud_count = len([f for f in os.listdir(fraud_dir) if f.lower().endswith(('.jpg', '.jpeg', '.png', '.bmp'))])\n",
    "non_fraud_count = len([f for f in os.listdir(non_fraud_dir) if f.lower().endswith(('.jpg', '.jpeg', '.png', '.bmp'))])"
   ]
  },
  {
   "cell_type": "code",
   "execution_count": 6,
   "id": "09b67e6f",
   "metadata": {},
   "outputs": [
    {
     "name": "stdout",
     "output_type": "stream",
     "text": [
      "Total images: 5200\n",
      "Fraud images: 200 (3.85%)\n",
      "Non-Fraud images: 5000 (96.15%)\n",
      "Imbalance Ratio (Non-Fraud/Fraud): 25.00\n"
     ]
    }
   ],
   "source": [
    "total = fraud_count + non_fraud_count\n",
    "fraud_pct = (fraud_count / total) * 100\n",
    "imbalance_ratio = non_fraud_count / fraud_count\n",
    "\n",
    "print(f\"Total images: {total}\")\n",
    "print(f\"Fraud images: {fraud_count} ({fraud_pct:.2f}%)\")\n",
    "print(f\"Non-Fraud images: {non_fraud_count} ({100 - fraud_pct:.2f}%)\")\n",
    "print(f\"Imbalance Ratio (Non-Fraud/Fraud): {imbalance_ratio:.2f}\")"
   ]
  },
  {
   "cell_type": "markdown",
   "id": "b150c1a0",
   "metadata": {},
   "source": [
    "# 2. Train-Validation Split"
   ]
  },
  {
   "cell_type": "code",
   "execution_count": 7,
   "id": "f7447b9d",
   "metadata": {},
   "outputs": [],
   "source": [
    "random.seed(42)\n",
    "np.random.seed(42)\n",
    "\n",
    "raw_dir = \"data/raw/\"\n",
    "train_dir = \"data/train/\"\n",
    "val_dir = \"data/val/\"\n",
    "\n",
    "def create_balanced_split():\n",
    "    \n",
    "    for output in [train_dir, val_dir]:\n",
    "        os.makedirs(os.path.join(output, \"Fraud\"), exist_ok=True)\n",
    "        os.makedirs(os.path.join(output, \"Non-Fraud\"), exist_ok=True)\n",
    "    \n",
    "    for class_name in [\"Fraud\", \"Non-Fraud\"]:\n",
    "        class_path = os.path.join(raw_dir, class_name)\n",
    "        \n",
    "        if not os.path.exists(class_path):\n",
    "            print(f\"Warning: {class_path} doesn't exist, skipping...\")\n",
    "            continue\n",
    "        \n",
    "        image_files = [f for f in os.listdir(class_path)\n",
    "                       if f.lower().endswith(('.jpg', '.jpeg', '.png', '.bmp'))]\n",
    "        \n",
    "        if len(image_files) == 0:\n",
    "            print(f\"Warning: No images found in {class_path}\")\n",
    "            continue\n",
    "        \n",
    "        print(f\"  Processing {class_name}: {len(image_files)} images\")\n",
    "        \n",
    "        train_files, val_files = train_test_split(\n",
    "            image_files,\n",
    "            test_size=0.2,\n",
    "            random_state=12345,\n",
    "            shuffle=True\n",
    "        )\n",
    "        \n",
    "        for file_name in train_files:\n",
    "            src = os.path.join(class_path, file_name)\n",
    "            dst = os.path.join(train_dir, class_name, file_name)\n",
    "            shutil.copy2(src, dst)\n",
    "        \n",
    "        for file_name in val_files:\n",
    "            src = os.path.join(class_path, file_name)\n",
    "            dst = os.path.join(val_dir, class_name, file_name)\n",
    "            shutil.copy2(src, dst)\n",
    "        \n",
    "        print(f\"    Train: {len(train_files)}, Val: {len(val_files)}\")"
   ]
  },
  {
   "cell_type": "code",
   "execution_count": 8,
   "id": "e449b399",
   "metadata": {},
   "outputs": [
    {
     "name": "stdout",
     "output_type": "stream",
     "text": [
      "  Processing Fraud: 200 images\n",
      "    Train: 160, Val: 40\n",
      "  Processing Non-Fraud: 5000 images\n",
      "    Train: 4000, Val: 1000\n"
     ]
    }
   ],
   "source": [
    "create_balanced_split()"
   ]
  },
  {
   "cell_type": "markdown",
   "id": "b4a883d8",
   "metadata": {},
   "source": [
    "# 3. Addressing the Imbalance"
   ]
  },
  {
   "cell_type": "markdown",
   "id": "a2adcf9b",
   "metadata": {},
   "source": [
    "### Due to the severe inbalance, we should...\n",
    "    - Use BALANCED split for training (create_balanced_oversample_split)\n",
    "    - Use STRATIFIED split for final evaluation\n",
    "    - Use Focal Loss or class weighting\n",
    "    - Focus on F1-score, not accuracy\n",
    "    - Monitor fraud detection rate carefully"
   ]
  },
  {
   "cell_type": "code",
   "execution_count": 40,
   "id": "a2e100ed",
   "metadata": {},
   "outputs": [
    {
     "name": "stdout",
     "output_type": "stream",
     "text": [
      "   Original: 200 fraud, 5000 non-fraud\n",
      "   Strategy: Each fraud image used 25 times + 0 extra\n"
     ]
    }
   ],
   "source": [
    "fraud_dir = \"data/raw/Fraud\"\n",
    "non_fraud_dir = \"data/raw/Non-Fraud\"\n",
    "\n",
    "fraud_files = [f for f in os.listdir(fraud_dir) \n",
    "               if f.lower().endswith(('.jpg', '.jpeg', '.png', '.bmp'))]\n",
    "non_fraud_files = [f for f in os.listdir(non_fraud_dir) \n",
    "                if f.lower().endswith(('.jpg', '.jpeg', '.png', '.bmp'))]\n",
    "\n",
    "target_fraud_count = len(non_fraud_files)\n",
    "oversample_factor = target_fraud_count // len(fraud_files)\n",
    "remainder = target_fraud_count % len(fraud_files)\n",
    "\n",
    "print(f\"   Original: {len(fraud_files)} fraud, {len(non_fraud_files)} non-fraud\")\n",
    "print(f\"   Strategy: Each fraud image used {oversample_factor} times + {remainder} extra\")"
   ]
  }
 ],
 "metadata": {
  "kernelspec": {
   "display_name": "tfmac",
   "language": "python",
   "name": "python3"
  },
  "language_info": {
   "codemirror_mode": {
    "name": "ipython",
    "version": 3
   },
   "file_extension": ".py",
   "mimetype": "text/x-python",
   "name": "python",
   "nbconvert_exporter": "python",
   "pygments_lexer": "ipython3",
   "version": "3.10.18"
  }
 },
 "nbformat": 4,
 "nbformat_minor": 5
}
